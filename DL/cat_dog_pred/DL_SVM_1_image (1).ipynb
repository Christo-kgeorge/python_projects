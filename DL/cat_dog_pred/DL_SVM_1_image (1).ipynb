{
  "nbformat": 4,
  "nbformat_minor": 0,
  "metadata": {
    "colab": {
      "provenance": []
    },
    "kernelspec": {
      "name": "python3",
      "display_name": "Python 3"
    },
    "language_info": {
      "name": "python"
    }
  },
  "cells": [
    {
      "cell_type": "code",
      "execution_count": null,
      "metadata": {
        "colab": {
          "base_uri": "https://localhost:8080/"
        },
        "id": "r2_cx1tTB67X",
        "outputId": "5638e815-cb91-4e3e-9bb0-134fd338535b"
      },
      "outputs": [
        {
          "output_type": "stream",
          "name": "stdout",
          "text": [
            "Drive already mounted at /content/drive; to attempt to forcibly remount, call drive.mount(\"/content/drive\", force_remount=True).\n"
          ]
        }
      ],
      "source": [
        "#Drive mount\n",
        "from google.colab import drive\n",
        "drive.mount('/content/drive')"
      ]
    },
    {
      "cell_type": "code",
      "source": [
        "import pandas as pd\n",
        "from sklearn.svm import SVC\n",
        "import numpy as np\n",
        "import matplotlib.pyplot as plt\n",
        "import os  #define path of file and directory\n",
        "from skimage.io import imread # used for reading image\n",
        "from sklearn.model_selection import train_test_split\n",
        "from skimage.transform import resize"
      ],
      "metadata": {
        "id": "e4ItIEY5GDH9"
      },
      "execution_count": null,
      "outputs": []
    },
    {
      "cell_type": "code",
      "source": [
        "os.listdir('/content/drive/MyDrive/Data')"
      ],
      "metadata": {
        "colab": {
          "base_uri": "https://localhost:8080/"
        },
        "id": "S_yhvJ-MICr0",
        "outputId": "877e7540-e183-4f7b-f731-2cd1cd9ffb47"
      },
      "execution_count": null,
      "outputs": [
        {
          "output_type": "execute_result",
          "data": {
            "text/plain": [
              "['Cat', 'Dog']"
            ]
          },
          "metadata": {},
          "execution_count": 25
        }
      ]
    },
    {
      "cell_type": "code",
      "source": [
        "len(os.listdir('/content/drive/MyDrive/Data/Cat'))"
      ],
      "metadata": {
        "colab": {
          "base_uri": "https://localhost:8080/"
        },
        "id": "iws8eSGSI6iB",
        "outputId": "4139f766-2803-467e-d992-a358a612b3fe"
      },
      "execution_count": null,
      "outputs": [
        {
          "output_type": "execute_result",
          "data": {
            "text/plain": [
              "85"
            ]
          },
          "metadata": {},
          "execution_count": 26
        }
      ]
    },
    {
      "cell_type": "code",
      "source": [
        "len(os.listdir('/content/drive/MyDrive/Data/Dog'))"
      ],
      "metadata": {
        "colab": {
          "base_uri": "https://localhost:8080/"
        },
        "id": "ObqatmNMJEwL",
        "outputId": "e126b0bc-117a-42d8-b8a5-e7b93920c5c5"
      },
      "execution_count": null,
      "outputs": [
        {
          "output_type": "execute_result",
          "data": {
            "text/plain": [
              "68"
            ]
          },
          "metadata": {},
          "execution_count": 27
        }
      ]
    },
    {
      "cell_type": "code",
      "source": [
        "catpath=os.path.join('/content/drive/MyDrive/Data','Cat')  #to join data and Cat folder we can also give cat path without using join\n",
        "for img in os.listdir(catpath):\n",
        "  print(img)"
      ],
      "metadata": {
        "colab": {
          "base_uri": "https://localhost:8080/"
        },
        "id": "DESUDxOMKA5V",
        "outputId": "0e2b8dfb-af45-4e23-aafc-c4110048ec7d"
      },
      "execution_count": null,
      "outputs": [
        {
          "output_type": "stream",
          "name": "stdout",
          "text": [
            "cat.103.jpg\n",
            "cat.107.jpg\n",
            "cat.105.jpg\n",
            "cat.110.jpg\n",
            "cat.102.jpg\n",
            "cat.104.jpg\n",
            "cat.111.jpg\n",
            "cat.108.jpg\n",
            "cat.101.jpg\n",
            "cat.109.jpg\n",
            "cat.100.jpg\n",
            "cat.106.jpg\n",
            "cat.116.jpg\n",
            "cat.118.jpg\n",
            "cat.117.jpg\n",
            "cat.113.jpg\n",
            "cat.119.jpg\n",
            "cat.115.jpg\n",
            "cat.112.jpg\n",
            "cat.114.jpg\n",
            "cat.57.jpg\n",
            "cat.55.jpg\n",
            "cat.35.jpg\n",
            "cat.37.jpg\n",
            "cat.51.jpg\n",
            "cat.41.jpg\n",
            "cat.54.jpg\n",
            "cat.45.jpg\n",
            "cat.62.jpg\n",
            "cat.38.jpg\n",
            "cat.52.jpg\n",
            "cat.56.jpg\n",
            "cat.43.jpg\n",
            "cat.58.jpg\n",
            "cat.48.jpg\n",
            "cat.61.jpg\n",
            "cat.39.jpg\n",
            "cat.53.jpg\n",
            "cat.46.jpg\n",
            "cat.49.jpg\n",
            "cat.44.jpg\n",
            "cat.59.jpg\n",
            "cat.42.jpg\n",
            "cat.50.jpg\n",
            "cat.36.jpg\n",
            "cat.60.jpg\n",
            "cat.40.jpg\n",
            "cat.47.jpg\n",
            "cat.63.jpg\n",
            "cat.95.jpg\n",
            "cat.99.jpg\n",
            "cat.92.jpg\n",
            "cat.97.jpg\n",
            "cat.69.jpg\n",
            "cat.81.jpg\n",
            "cat.93.jpg\n",
            "cat.76.jpg\n",
            "cat.66.jpg\n",
            "cat.73.jpg\n",
            "cat.77.jpg\n",
            "cat.65.jpg\n",
            "cat.89.jpg\n",
            "cat.82.jpg\n",
            "cat.96.jpg\n",
            "cat.71.jpg\n",
            "cat.80.jpg\n",
            "cat.70.jpg\n",
            "cat.83.jpg\n",
            "cat.88.jpg\n",
            "cat.91.jpg\n",
            "cat.67.jpg\n",
            "cat.87.jpg\n",
            "cat.90.jpg\n",
            "cat.79.jpg\n",
            "cat.72.jpg\n",
            "cat.74.jpg\n",
            "cat.64.jpg\n",
            "cat.86.jpg\n",
            "cat.98.jpg\n",
            "cat.75.jpg\n",
            "cat.68.jpg\n",
            "cat.94.jpg\n",
            "cat.78.jpg\n",
            "cat.85.jpg\n",
            "cat.84.jpg\n"
          ]
        }
      ]
    },
    {
      "cell_type": "code",
      "source": [
        "dogpath=os.path.join('/content/drive/MyDrive/Data','Dog')  #to join data and Cat folder we can also give cat path without using join\n",
        "for img in os.listdir(dogpath):\n",
        "  print(img)"
      ],
      "metadata": {
        "colab": {
          "base_uri": "https://localhost:8080/"
        },
        "id": "5A3s_3vEJ75J",
        "outputId": "710403b6-4f86-4653-9b3f-96bf494a84e4"
      },
      "execution_count": null,
      "outputs": [
        {
          "output_type": "stream",
          "name": "stdout",
          "text": [
            "dog.1.jpg\n",
            "dog.11.jpg\n",
            "dog.10.jpg\n",
            "dog.12.jpg\n",
            "dog.15.jpg\n",
            "dog.13.jpg\n",
            "dog.14.jpg\n",
            "dog.21.jpg\n",
            "dog.22.jpg\n",
            "dog.18.jpg\n",
            "dog.23.jpg\n",
            "dog.19.jpg\n",
            "dog.16.jpg\n",
            "dog.24.jpg\n",
            "dog.2.jpg\n",
            "dog.17.jpg\n",
            "dog.20.jpg\n",
            "dog.29.jpg\n",
            "dog.31.jpg\n",
            "dog.33.jpg\n",
            "dog.28.jpg\n",
            "dog.26.jpg\n",
            "dog.25.jpg\n",
            "dog.3.jpg\n",
            "dog.30.jpg\n",
            "dog.27.jpg\n",
            "dog.32.jpg\n",
            "dog.51.jpg\n",
            "dog.53.jpg\n",
            "dog.60.jpg\n",
            "dog.38.jpg\n",
            "dog.35.jpg\n",
            "dog.48.jpg\n",
            "dog.56.jpg\n",
            "dog.46.jpg\n",
            "dog.40.jpg\n",
            "dog.59.jpg\n",
            "dog.44.jpg\n",
            "dog.41.jpg\n",
            "dog.42.jpg\n",
            "dog.4.jpg\n",
            "dog.36.jpg\n",
            "dog.47.jpg\n",
            "dog.54.jpg\n",
            "dog.5.jpg\n",
            "dog.58.jpg\n",
            "dog.39.jpg\n",
            "dog.57.jpg\n",
            "dog.52.jpg\n",
            "dog.37.jpg\n",
            "dog.50.jpg\n",
            "dog.34.jpg\n",
            "dog.49.jpg\n",
            "dog.6.jpg\n",
            "dog.43.jpg\n",
            "dog.45.jpg\n",
            "dog.55.jpg\n",
            "dog.7.jpg\n",
            "dog.62.jpg\n",
            "dog.68.jpg\n",
            "dog.61.jpg\n",
            "dog.67.jpg\n",
            "dog.8.jpg\n",
            "dog.63.jpg\n",
            "dog.64.jpg\n",
            "dog.9.jpg\n",
            "dog.65.jpg\n",
            "dog.66.jpg\n"
          ]
        }
      ]
    },
    {
      "cell_type": "code",
      "source": [
        "flat_data_arr=[] #used to collect input data\n",
        "target_arr=[]   #used for collect output data\n",
        "categories=['Cat','Dog']\n",
        "datadir='/content/drive/MyDrive/Data'"
      ],
      "metadata": {
        "id": "hQm2ORYYNBGj"
      },
      "execution_count": null,
      "outputs": []
    },
    {
      "cell_type": "code",
      "source": [
        "for i in categories:\n",
        "  print(\"Loading categories......\")\n",
        "  path=os.path.join(datadir,i)\n",
        "  for img in os.listdir(path):   #for j in os.listdir(path):\n",
        "    img_arr=imread(os.path.join(path,img))  #imread(os.path.join(path,img))\n",
        "    img_resize=resize(img_arr,(150,150,3))  #RGB\n",
        "    flat_data_arr.append(img_resize.flatten())\n",
        "    target_arr.append(categories.index(i))  #0 1\n",
        "  print(\"Loaded completely\",i)"
      ],
      "metadata": {
        "colab": {
          "base_uri": "https://localhost:8080/"
        },
        "id": "wSwSXXsBOP9Q",
        "outputId": "6f6d93c4-8074-4123-8c95-d413b9794751"
      },
      "execution_count": null,
      "outputs": [
        {
          "output_type": "stream",
          "name": "stdout",
          "text": [
            "Loading categories......\n",
            "Loaded completely Cat\n",
            "Loading categories......\n",
            "Loaded completely Dog\n"
          ]
        }
      ]
    },
    {
      "cell_type": "code",
      "source": [
        "flat_data=np.array(flat_data_arr)\n",
        "target_data=np.array(target_arr)\n",
        "\n",
        "df=pd.DataFrame(flat_data)\n",
        "df"
      ],
      "metadata": {
        "colab": {
          "base_uri": "https://localhost:8080/",
          "height": 444
        },
        "id": "CF-Y_AKMQAD4",
        "outputId": "9e7bbda1-7457-4248-e83d-ede21ce420b4"
      },
      "execution_count": null,
      "outputs": [
        {
          "output_type": "execute_result",
          "data": {
            "text/plain": [
              "        0         1         2         3         4         5         6      \\\n",
              "0    0.601961  0.617647  0.613726  0.604402  0.620088  0.616167  0.597635   \n",
              "1    0.186657  0.186640  0.221778  0.191698  0.191680  0.226823  0.186147   \n",
              "2    0.408366  0.376993  0.333856  0.431765  0.400393  0.357255  0.500325   \n",
              "3    0.654589  0.092548  0.203156  0.643521  0.093398  0.199501  0.633144   \n",
              "4    0.567769  0.512867  0.461886  0.573767  0.518865  0.467885  0.545760   \n",
              "..        ...       ...       ...       ...       ...       ...       ...   \n",
              "148  0.383067  0.386150  0.303591  0.394106  0.397188  0.314629  0.406612   \n",
              "149  0.003922  0.003922  0.003922  0.003922  0.003922  0.003922  0.003922   \n",
              "150  0.815650  0.849131  0.845227  0.933889  0.955618  0.969236  0.891768   \n",
              "151  0.868126  0.824222  0.832039  0.803477  0.760941  0.767098  0.871503   \n",
              "152  0.379472  0.528492  0.194307  0.377842  0.527678  0.186123  0.376462   \n",
              "\n",
              "        7         8         9      ...     67490     67491     67492  \\\n",
              "0    0.613321  0.609399  0.596407  ...  0.680711  0.632742  0.635138   \n",
              "1    0.186129  0.221276  0.182267  ...  0.221204  0.322640  0.232582   \n",
              "2    0.468953  0.425815  0.478301  ...  0.124019  0.832719  0.695464   \n",
              "3    0.093794  0.195976  0.627333  ...  0.196421  0.644119  0.166650   \n",
              "4    0.490858  0.439877  0.557858  ...  0.521950  0.728231  0.660557   \n",
              "..        ...       ...       ...  ...       ...       ...       ...   \n",
              "148  0.409694  0.327135  0.387642  ...  0.297777  0.267342  0.340032   \n",
              "149  0.003922  0.003922  0.003922  ...  0.003922  0.003922  0.003922   \n",
              "150  0.905157  0.937564  0.477821  ...  0.094129  0.313858  0.429106   \n",
              "151  0.835795  0.839717  0.891882  ...  0.405198  0.491852  0.605904   \n",
              "152  0.529329  0.174595  0.376284  ...  0.074985  0.350342  0.554265   \n",
              "\n",
              "        67493     67494     67495     67496     67497     67498     67499  \n",
              "0    0.645287  0.631576  0.633479  0.642293  0.690567  0.689876  0.689292  \n",
              "1    0.220778  0.307843  0.229316  0.221181  0.307185  0.221946  0.231622  \n",
              "2    0.138601  0.849192  0.708016  0.158996  0.850358  0.709182  0.165814  \n",
              "3    0.215340  0.686256  0.145864  0.234624  0.698753  0.139866  0.235372  \n",
              "4    0.600644  0.698120  0.629841  0.567903  0.732229  0.653866  0.600209  \n",
              "..        ...       ...       ...       ...       ...       ...       ...  \n",
              "148  0.137523  0.363487  0.444638  0.189242  0.362599  0.440701  0.184744  \n",
              "149  0.003922  0.003922  0.003922  0.003922  0.003922  0.003922  0.003922  \n",
              "150  0.209400  0.405920  0.508851  0.307331  0.362543  0.453008  0.271112  \n",
              "151  0.386950  0.477503  0.591229  0.371621  0.467608  0.577477  0.350157  \n",
              "152  0.122808  0.348114  0.553508  0.121114  0.341176  0.559507  0.117435  \n",
              "\n",
              "[153 rows x 67500 columns]"
            ],
            "text/html": [
              "\n",
              "  <div id=\"df-e200f8ac-85e6-48ff-96c3-0ffecdbe2ea3\" class=\"colab-df-container\">\n",
              "    <div>\n",
              "<style scoped>\n",
              "    .dataframe tbody tr th:only-of-type {\n",
              "        vertical-align: middle;\n",
              "    }\n",
              "\n",
              "    .dataframe tbody tr th {\n",
              "        vertical-align: top;\n",
              "    }\n",
              "\n",
              "    .dataframe thead th {\n",
              "        text-align: right;\n",
              "    }\n",
              "</style>\n",
              "<table border=\"1\" class=\"dataframe\">\n",
              "  <thead>\n",
              "    <tr style=\"text-align: right;\">\n",
              "      <th></th>\n",
              "      <th>0</th>\n",
              "      <th>1</th>\n",
              "      <th>2</th>\n",
              "      <th>3</th>\n",
              "      <th>4</th>\n",
              "      <th>5</th>\n",
              "      <th>6</th>\n",
              "      <th>7</th>\n",
              "      <th>8</th>\n",
              "      <th>9</th>\n",
              "      <th>...</th>\n",
              "      <th>67490</th>\n",
              "      <th>67491</th>\n",
              "      <th>67492</th>\n",
              "      <th>67493</th>\n",
              "      <th>67494</th>\n",
              "      <th>67495</th>\n",
              "      <th>67496</th>\n",
              "      <th>67497</th>\n",
              "      <th>67498</th>\n",
              "      <th>67499</th>\n",
              "    </tr>\n",
              "  </thead>\n",
              "  <tbody>\n",
              "    <tr>\n",
              "      <th>0</th>\n",
              "      <td>0.601961</td>\n",
              "      <td>0.617647</td>\n",
              "      <td>0.613726</td>\n",
              "      <td>0.604402</td>\n",
              "      <td>0.620088</td>\n",
              "      <td>0.616167</td>\n",
              "      <td>0.597635</td>\n",
              "      <td>0.613321</td>\n",
              "      <td>0.609399</td>\n",
              "      <td>0.596407</td>\n",
              "      <td>...</td>\n",
              "      <td>0.680711</td>\n",
              "      <td>0.632742</td>\n",
              "      <td>0.635138</td>\n",
              "      <td>0.645287</td>\n",
              "      <td>0.631576</td>\n",
              "      <td>0.633479</td>\n",
              "      <td>0.642293</td>\n",
              "      <td>0.690567</td>\n",
              "      <td>0.689876</td>\n",
              "      <td>0.689292</td>\n",
              "    </tr>\n",
              "    <tr>\n",
              "      <th>1</th>\n",
              "      <td>0.186657</td>\n",
              "      <td>0.186640</td>\n",
              "      <td>0.221778</td>\n",
              "      <td>0.191698</td>\n",
              "      <td>0.191680</td>\n",
              "      <td>0.226823</td>\n",
              "      <td>0.186147</td>\n",
              "      <td>0.186129</td>\n",
              "      <td>0.221276</td>\n",
              "      <td>0.182267</td>\n",
              "      <td>...</td>\n",
              "      <td>0.221204</td>\n",
              "      <td>0.322640</td>\n",
              "      <td>0.232582</td>\n",
              "      <td>0.220778</td>\n",
              "      <td>0.307843</td>\n",
              "      <td>0.229316</td>\n",
              "      <td>0.221181</td>\n",
              "      <td>0.307185</td>\n",
              "      <td>0.221946</td>\n",
              "      <td>0.231622</td>\n",
              "    </tr>\n",
              "    <tr>\n",
              "      <th>2</th>\n",
              "      <td>0.408366</td>\n",
              "      <td>0.376993</td>\n",
              "      <td>0.333856</td>\n",
              "      <td>0.431765</td>\n",
              "      <td>0.400393</td>\n",
              "      <td>0.357255</td>\n",
              "      <td>0.500325</td>\n",
              "      <td>0.468953</td>\n",
              "      <td>0.425815</td>\n",
              "      <td>0.478301</td>\n",
              "      <td>...</td>\n",
              "      <td>0.124019</td>\n",
              "      <td>0.832719</td>\n",
              "      <td>0.695464</td>\n",
              "      <td>0.138601</td>\n",
              "      <td>0.849192</td>\n",
              "      <td>0.708016</td>\n",
              "      <td>0.158996</td>\n",
              "      <td>0.850358</td>\n",
              "      <td>0.709182</td>\n",
              "      <td>0.165814</td>\n",
              "    </tr>\n",
              "    <tr>\n",
              "      <th>3</th>\n",
              "      <td>0.654589</td>\n",
              "      <td>0.092548</td>\n",
              "      <td>0.203156</td>\n",
              "      <td>0.643521</td>\n",
              "      <td>0.093398</td>\n",
              "      <td>0.199501</td>\n",
              "      <td>0.633144</td>\n",
              "      <td>0.093794</td>\n",
              "      <td>0.195976</td>\n",
              "      <td>0.627333</td>\n",
              "      <td>...</td>\n",
              "      <td>0.196421</td>\n",
              "      <td>0.644119</td>\n",
              "      <td>0.166650</td>\n",
              "      <td>0.215340</td>\n",
              "      <td>0.686256</td>\n",
              "      <td>0.145864</td>\n",
              "      <td>0.234624</td>\n",
              "      <td>0.698753</td>\n",
              "      <td>0.139866</td>\n",
              "      <td>0.235372</td>\n",
              "    </tr>\n",
              "    <tr>\n",
              "      <th>4</th>\n",
              "      <td>0.567769</td>\n",
              "      <td>0.512867</td>\n",
              "      <td>0.461886</td>\n",
              "      <td>0.573767</td>\n",
              "      <td>0.518865</td>\n",
              "      <td>0.467885</td>\n",
              "      <td>0.545760</td>\n",
              "      <td>0.490858</td>\n",
              "      <td>0.439877</td>\n",
              "      <td>0.557858</td>\n",
              "      <td>...</td>\n",
              "      <td>0.521950</td>\n",
              "      <td>0.728231</td>\n",
              "      <td>0.660557</td>\n",
              "      <td>0.600644</td>\n",
              "      <td>0.698120</td>\n",
              "      <td>0.629841</td>\n",
              "      <td>0.567903</td>\n",
              "      <td>0.732229</td>\n",
              "      <td>0.653866</td>\n",
              "      <td>0.600209</td>\n",
              "    </tr>\n",
              "    <tr>\n",
              "      <th>...</th>\n",
              "      <td>...</td>\n",
              "      <td>...</td>\n",
              "      <td>...</td>\n",
              "      <td>...</td>\n",
              "      <td>...</td>\n",
              "      <td>...</td>\n",
              "      <td>...</td>\n",
              "      <td>...</td>\n",
              "      <td>...</td>\n",
              "      <td>...</td>\n",
              "      <td>...</td>\n",
              "      <td>...</td>\n",
              "      <td>...</td>\n",
              "      <td>...</td>\n",
              "      <td>...</td>\n",
              "      <td>...</td>\n",
              "      <td>...</td>\n",
              "      <td>...</td>\n",
              "      <td>...</td>\n",
              "      <td>...</td>\n",
              "      <td>...</td>\n",
              "    </tr>\n",
              "    <tr>\n",
              "      <th>148</th>\n",
              "      <td>0.383067</td>\n",
              "      <td>0.386150</td>\n",
              "      <td>0.303591</td>\n",
              "      <td>0.394106</td>\n",
              "      <td>0.397188</td>\n",
              "      <td>0.314629</td>\n",
              "      <td>0.406612</td>\n",
              "      <td>0.409694</td>\n",
              "      <td>0.327135</td>\n",
              "      <td>0.387642</td>\n",
              "      <td>...</td>\n",
              "      <td>0.297777</td>\n",
              "      <td>0.267342</td>\n",
              "      <td>0.340032</td>\n",
              "      <td>0.137523</td>\n",
              "      <td>0.363487</td>\n",
              "      <td>0.444638</td>\n",
              "      <td>0.189242</td>\n",
              "      <td>0.362599</td>\n",
              "      <td>0.440701</td>\n",
              "      <td>0.184744</td>\n",
              "    </tr>\n",
              "    <tr>\n",
              "      <th>149</th>\n",
              "      <td>0.003922</td>\n",
              "      <td>0.003922</td>\n",
              "      <td>0.003922</td>\n",
              "      <td>0.003922</td>\n",
              "      <td>0.003922</td>\n",
              "      <td>0.003922</td>\n",
              "      <td>0.003922</td>\n",
              "      <td>0.003922</td>\n",
              "      <td>0.003922</td>\n",
              "      <td>0.003922</td>\n",
              "      <td>...</td>\n",
              "      <td>0.003922</td>\n",
              "      <td>0.003922</td>\n",
              "      <td>0.003922</td>\n",
              "      <td>0.003922</td>\n",
              "      <td>0.003922</td>\n",
              "      <td>0.003922</td>\n",
              "      <td>0.003922</td>\n",
              "      <td>0.003922</td>\n",
              "      <td>0.003922</td>\n",
              "      <td>0.003922</td>\n",
              "    </tr>\n",
              "    <tr>\n",
              "      <th>150</th>\n",
              "      <td>0.815650</td>\n",
              "      <td>0.849131</td>\n",
              "      <td>0.845227</td>\n",
              "      <td>0.933889</td>\n",
              "      <td>0.955618</td>\n",
              "      <td>0.969236</td>\n",
              "      <td>0.891768</td>\n",
              "      <td>0.905157</td>\n",
              "      <td>0.937564</td>\n",
              "      <td>0.477821</td>\n",
              "      <td>...</td>\n",
              "      <td>0.094129</td>\n",
              "      <td>0.313858</td>\n",
              "      <td>0.429106</td>\n",
              "      <td>0.209400</td>\n",
              "      <td>0.405920</td>\n",
              "      <td>0.508851</td>\n",
              "      <td>0.307331</td>\n",
              "      <td>0.362543</td>\n",
              "      <td>0.453008</td>\n",
              "      <td>0.271112</td>\n",
              "    </tr>\n",
              "    <tr>\n",
              "      <th>151</th>\n",
              "      <td>0.868126</td>\n",
              "      <td>0.824222</td>\n",
              "      <td>0.832039</td>\n",
              "      <td>0.803477</td>\n",
              "      <td>0.760941</td>\n",
              "      <td>0.767098</td>\n",
              "      <td>0.871503</td>\n",
              "      <td>0.835795</td>\n",
              "      <td>0.839717</td>\n",
              "      <td>0.891882</td>\n",
              "      <td>...</td>\n",
              "      <td>0.405198</td>\n",
              "      <td>0.491852</td>\n",
              "      <td>0.605904</td>\n",
              "      <td>0.386950</td>\n",
              "      <td>0.477503</td>\n",
              "      <td>0.591229</td>\n",
              "      <td>0.371621</td>\n",
              "      <td>0.467608</td>\n",
              "      <td>0.577477</td>\n",
              "      <td>0.350157</td>\n",
              "    </tr>\n",
              "    <tr>\n",
              "      <th>152</th>\n",
              "      <td>0.379472</td>\n",
              "      <td>0.528492</td>\n",
              "      <td>0.194307</td>\n",
              "      <td>0.377842</td>\n",
              "      <td>0.527678</td>\n",
              "      <td>0.186123</td>\n",
              "      <td>0.376462</td>\n",
              "      <td>0.529329</td>\n",
              "      <td>0.174595</td>\n",
              "      <td>0.376284</td>\n",
              "      <td>...</td>\n",
              "      <td>0.074985</td>\n",
              "      <td>0.350342</td>\n",
              "      <td>0.554265</td>\n",
              "      <td>0.122808</td>\n",
              "      <td>0.348114</td>\n",
              "      <td>0.553508</td>\n",
              "      <td>0.121114</td>\n",
              "      <td>0.341176</td>\n",
              "      <td>0.559507</td>\n",
              "      <td>0.117435</td>\n",
              "    </tr>\n",
              "  </tbody>\n",
              "</table>\n",
              "<p>153 rows × 67500 columns</p>\n",
              "</div>\n",
              "    <div class=\"colab-df-buttons\">\n",
              "\n",
              "  <div class=\"colab-df-container\">\n",
              "    <button class=\"colab-df-convert\" onclick=\"convertToInteractive('df-e200f8ac-85e6-48ff-96c3-0ffecdbe2ea3')\"\n",
              "            title=\"Convert this dataframe to an interactive table.\"\n",
              "            style=\"display:none;\">\n",
              "\n",
              "  <svg xmlns=\"http://www.w3.org/2000/svg\" height=\"24px\" viewBox=\"0 -960 960 960\">\n",
              "    <path d=\"M120-120v-720h720v720H120Zm60-500h600v-160H180v160Zm220 220h160v-160H400v160Zm0 220h160v-160H400v160ZM180-400h160v-160H180v160Zm440 0h160v-160H620v160ZM180-180h160v-160H180v160Zm440 0h160v-160H620v160Z\"/>\n",
              "  </svg>\n",
              "    </button>\n",
              "\n",
              "  <style>\n",
              "    .colab-df-container {\n",
              "      display:flex;\n",
              "      gap: 12px;\n",
              "    }\n",
              "\n",
              "    .colab-df-convert {\n",
              "      background-color: #E8F0FE;\n",
              "      border: none;\n",
              "      border-radius: 50%;\n",
              "      cursor: pointer;\n",
              "      display: none;\n",
              "      fill: #1967D2;\n",
              "      height: 32px;\n",
              "      padding: 0 0 0 0;\n",
              "      width: 32px;\n",
              "    }\n",
              "\n",
              "    .colab-df-convert:hover {\n",
              "      background-color: #E2EBFA;\n",
              "      box-shadow: 0px 1px 2px rgba(60, 64, 67, 0.3), 0px 1px 3px 1px rgba(60, 64, 67, 0.15);\n",
              "      fill: #174EA6;\n",
              "    }\n",
              "\n",
              "    .colab-df-buttons div {\n",
              "      margin-bottom: 4px;\n",
              "    }\n",
              "\n",
              "    [theme=dark] .colab-df-convert {\n",
              "      background-color: #3B4455;\n",
              "      fill: #D2E3FC;\n",
              "    }\n",
              "\n",
              "    [theme=dark] .colab-df-convert:hover {\n",
              "      background-color: #434B5C;\n",
              "      box-shadow: 0px 1px 3px 1px rgba(0, 0, 0, 0.15);\n",
              "      filter: drop-shadow(0px 1px 2px rgba(0, 0, 0, 0.3));\n",
              "      fill: #FFFFFF;\n",
              "    }\n",
              "  </style>\n",
              "\n",
              "    <script>\n",
              "      const buttonEl =\n",
              "        document.querySelector('#df-e200f8ac-85e6-48ff-96c3-0ffecdbe2ea3 button.colab-df-convert');\n",
              "      buttonEl.style.display =\n",
              "        google.colab.kernel.accessAllowed ? 'block' : 'none';\n",
              "\n",
              "      async function convertToInteractive(key) {\n",
              "        const element = document.querySelector('#df-e200f8ac-85e6-48ff-96c3-0ffecdbe2ea3');\n",
              "        const dataTable =\n",
              "          await google.colab.kernel.invokeFunction('convertToInteractive',\n",
              "                                                    [key], {});\n",
              "        if (!dataTable) return;\n",
              "\n",
              "        const docLinkHtml = 'Like what you see? Visit the ' +\n",
              "          '<a target=\"_blank\" href=https://colab.research.google.com/notebooks/data_table.ipynb>data table notebook</a>'\n",
              "          + ' to learn more about interactive tables.';\n",
              "        element.innerHTML = '';\n",
              "        dataTable['output_type'] = 'display_data';\n",
              "        await google.colab.output.renderOutput(dataTable, element);\n",
              "        const docLink = document.createElement('div');\n",
              "        docLink.innerHTML = docLinkHtml;\n",
              "        element.appendChild(docLink);\n",
              "      }\n",
              "    </script>\n",
              "  </div>\n",
              "\n",
              "\n",
              "<div id=\"df-97cb568b-3866-429b-9079-a2a2866e09ec\">\n",
              "  <button class=\"colab-df-quickchart\" onclick=\"quickchart('df-97cb568b-3866-429b-9079-a2a2866e09ec')\"\n",
              "            title=\"Suggest charts\"\n",
              "            style=\"display:none;\">\n",
              "\n",
              "<svg xmlns=\"http://www.w3.org/2000/svg\" height=\"24px\"viewBox=\"0 0 24 24\"\n",
              "     width=\"24px\">\n",
              "    <g>\n",
              "        <path d=\"M19 3H5c-1.1 0-2 .9-2 2v14c0 1.1.9 2 2 2h14c1.1 0 2-.9 2-2V5c0-1.1-.9-2-2-2zM9 17H7v-7h2v7zm4 0h-2V7h2v10zm4 0h-2v-4h2v4z\"/>\n",
              "    </g>\n",
              "</svg>\n",
              "  </button>\n",
              "\n",
              "<style>\n",
              "  .colab-df-quickchart {\n",
              "      --bg-color: #E8F0FE;\n",
              "      --fill-color: #1967D2;\n",
              "      --hover-bg-color: #E2EBFA;\n",
              "      --hover-fill-color: #174EA6;\n",
              "      --disabled-fill-color: #AAA;\n",
              "      --disabled-bg-color: #DDD;\n",
              "  }\n",
              "\n",
              "  [theme=dark] .colab-df-quickchart {\n",
              "      --bg-color: #3B4455;\n",
              "      --fill-color: #D2E3FC;\n",
              "      --hover-bg-color: #434B5C;\n",
              "      --hover-fill-color: #FFFFFF;\n",
              "      --disabled-bg-color: #3B4455;\n",
              "      --disabled-fill-color: #666;\n",
              "  }\n",
              "\n",
              "  .colab-df-quickchart {\n",
              "    background-color: var(--bg-color);\n",
              "    border: none;\n",
              "    border-radius: 50%;\n",
              "    cursor: pointer;\n",
              "    display: none;\n",
              "    fill: var(--fill-color);\n",
              "    height: 32px;\n",
              "    padding: 0;\n",
              "    width: 32px;\n",
              "  }\n",
              "\n",
              "  .colab-df-quickchart:hover {\n",
              "    background-color: var(--hover-bg-color);\n",
              "    box-shadow: 0 1px 2px rgba(60, 64, 67, 0.3), 0 1px 3px 1px rgba(60, 64, 67, 0.15);\n",
              "    fill: var(--button-hover-fill-color);\n",
              "  }\n",
              "\n",
              "  .colab-df-quickchart-complete:disabled,\n",
              "  .colab-df-quickchart-complete:disabled:hover {\n",
              "    background-color: var(--disabled-bg-color);\n",
              "    fill: var(--disabled-fill-color);\n",
              "    box-shadow: none;\n",
              "  }\n",
              "\n",
              "  .colab-df-spinner {\n",
              "    border: 2px solid var(--fill-color);\n",
              "    border-color: transparent;\n",
              "    border-bottom-color: var(--fill-color);\n",
              "    animation:\n",
              "      spin 1s steps(1) infinite;\n",
              "  }\n",
              "\n",
              "  @keyframes spin {\n",
              "    0% {\n",
              "      border-color: transparent;\n",
              "      border-bottom-color: var(--fill-color);\n",
              "      border-left-color: var(--fill-color);\n",
              "    }\n",
              "    20% {\n",
              "      border-color: transparent;\n",
              "      border-left-color: var(--fill-color);\n",
              "      border-top-color: var(--fill-color);\n",
              "    }\n",
              "    30% {\n",
              "      border-color: transparent;\n",
              "      border-left-color: var(--fill-color);\n",
              "      border-top-color: var(--fill-color);\n",
              "      border-right-color: var(--fill-color);\n",
              "    }\n",
              "    40% {\n",
              "      border-color: transparent;\n",
              "      border-right-color: var(--fill-color);\n",
              "      border-top-color: var(--fill-color);\n",
              "    }\n",
              "    60% {\n",
              "      border-color: transparent;\n",
              "      border-right-color: var(--fill-color);\n",
              "    }\n",
              "    80% {\n",
              "      border-color: transparent;\n",
              "      border-right-color: var(--fill-color);\n",
              "      border-bottom-color: var(--fill-color);\n",
              "    }\n",
              "    90% {\n",
              "      border-color: transparent;\n",
              "      border-bottom-color: var(--fill-color);\n",
              "    }\n",
              "  }\n",
              "</style>\n",
              "\n",
              "  <script>\n",
              "    async function quickchart(key) {\n",
              "      const quickchartButtonEl =\n",
              "        document.querySelector('#' + key + ' button');\n",
              "      quickchartButtonEl.disabled = true;  // To prevent multiple clicks.\n",
              "      quickchartButtonEl.classList.add('colab-df-spinner');\n",
              "      try {\n",
              "        const charts = await google.colab.kernel.invokeFunction(\n",
              "            'suggestCharts', [key], {});\n",
              "      } catch (error) {\n",
              "        console.error('Error during call to suggestCharts:', error);\n",
              "      }\n",
              "      quickchartButtonEl.classList.remove('colab-df-spinner');\n",
              "      quickchartButtonEl.classList.add('colab-df-quickchart-complete');\n",
              "    }\n",
              "    (() => {\n",
              "      let quickchartButtonEl =\n",
              "        document.querySelector('#df-97cb568b-3866-429b-9079-a2a2866e09ec button');\n",
              "      quickchartButtonEl.style.display =\n",
              "        google.colab.kernel.accessAllowed ? 'block' : 'none';\n",
              "    })();\n",
              "  </script>\n",
              "</div>\n",
              "\n",
              "  <div id=\"id_9480d3b2-1793-4325-9f19-663d0ae7dba3\">\n",
              "    <style>\n",
              "      .colab-df-generate {\n",
              "        background-color: #E8F0FE;\n",
              "        border: none;\n",
              "        border-radius: 50%;\n",
              "        cursor: pointer;\n",
              "        display: none;\n",
              "        fill: #1967D2;\n",
              "        height: 32px;\n",
              "        padding: 0 0 0 0;\n",
              "        width: 32px;\n",
              "      }\n",
              "\n",
              "      .colab-df-generate:hover {\n",
              "        background-color: #E2EBFA;\n",
              "        box-shadow: 0px 1px 2px rgba(60, 64, 67, 0.3), 0px 1px 3px 1px rgba(60, 64, 67, 0.15);\n",
              "        fill: #174EA6;\n",
              "      }\n",
              "\n",
              "      [theme=dark] .colab-df-generate {\n",
              "        background-color: #3B4455;\n",
              "        fill: #D2E3FC;\n",
              "      }\n",
              "\n",
              "      [theme=dark] .colab-df-generate:hover {\n",
              "        background-color: #434B5C;\n",
              "        box-shadow: 0px 1px 3px 1px rgba(0, 0, 0, 0.15);\n",
              "        filter: drop-shadow(0px 1px 2px rgba(0, 0, 0, 0.3));\n",
              "        fill: #FFFFFF;\n",
              "      }\n",
              "    </style>\n",
              "    <button class=\"colab-df-generate\" onclick=\"generateWithVariable('df')\"\n",
              "            title=\"Generate code using this dataframe.\"\n",
              "            style=\"display:none;\">\n",
              "\n",
              "  <svg xmlns=\"http://www.w3.org/2000/svg\" height=\"24px\"viewBox=\"0 0 24 24\"\n",
              "       width=\"24px\">\n",
              "    <path d=\"M7,19H8.4L18.45,9,17,7.55,7,17.6ZM5,21V16.75L18.45,3.32a2,2,0,0,1,2.83,0l1.4,1.43a1.91,1.91,0,0,1,.58,1.4,1.91,1.91,0,0,1-.58,1.4L9.25,21ZM18.45,9,17,7.55Zm-12,3A5.31,5.31,0,0,0,4.9,8.1,5.31,5.31,0,0,0,1,6.5,5.31,5.31,0,0,0,4.9,4.9,5.31,5.31,0,0,0,6.5,1,5.31,5.31,0,0,0,8.1,4.9,5.31,5.31,0,0,0,12,6.5,5.46,5.46,0,0,0,6.5,12Z\"/>\n",
              "  </svg>\n",
              "    </button>\n",
              "    <script>\n",
              "      (() => {\n",
              "      const buttonEl =\n",
              "        document.querySelector('#id_9480d3b2-1793-4325-9f19-663d0ae7dba3 button.colab-df-generate');\n",
              "      buttonEl.style.display =\n",
              "        google.colab.kernel.accessAllowed ? 'block' : 'none';\n",
              "\n",
              "      buttonEl.onclick = () => {\n",
              "        google.colab.notebook.generateWithVariable('df');\n",
              "      }\n",
              "      })();\n",
              "    </script>\n",
              "  </div>\n",
              "\n",
              "    </div>\n",
              "  </div>\n"
            ],
            "application/vnd.google.colaboratory.intrinsic+json": {
              "type": "dataframe",
              "variable_name": "df"
            }
          },
          "metadata": {},
          "execution_count": 32
        }
      ]
    },
    {
      "cell_type": "code",
      "source": [
        "df.shape"
      ],
      "metadata": {
        "colab": {
          "base_uri": "https://localhost:8080/"
        },
        "id": "-yF2LDizSI2V",
        "outputId": "c06405e2-15c3-4abf-8fbc-bf3ef8c80725"
      },
      "execution_count": null,
      "outputs": [
        {
          "output_type": "execute_result",
          "data": {
            "text/plain": [
              "(153, 67500)"
            ]
          },
          "metadata": {},
          "execution_count": 33
        }
      ]
    },
    {
      "cell_type": "code",
      "source": [
        "df['Target']=target_data\n",
        "df.shape"
      ],
      "metadata": {
        "colab": {
          "base_uri": "https://localhost:8080/"
        },
        "id": "quFKbYMRTGem",
        "outputId": "6b94dc7d-7857-4ccf-fbeb-72b61ae422f2"
      },
      "execution_count": null,
      "outputs": [
        {
          "output_type": "execute_result",
          "data": {
            "text/plain": [
              "(153, 67501)"
            ]
          },
          "metadata": {},
          "execution_count": 34
        }
      ]
    },
    {
      "cell_type": "code",
      "source": [
        "x=df.iloc[:,:-1]\n",
        "y=df.iloc[:,-1]\n",
        "x_train,x_test,y_train,y_test=train_test_split(x,y,test_size=0.20,random_state=42)\n"
      ],
      "metadata": {
        "id": "tBVjld3QUsr-"
      },
      "execution_count": null,
      "outputs": []
    },
    {
      "cell_type": "code",
      "source": [
        "from sklearn.svm import SVC\n",
        "model=SVC()\n",
        "model.fit(x_train,y_train)\n",
        "y_pred=model.predict(x_test)\n",
        "y_pred"
      ],
      "metadata": {
        "colab": {
          "base_uri": "https://localhost:8080/"
        },
        "id": "Dy_g9ZbjKP9w",
        "outputId": "65fd62c3-7239-4fc3-9847-9e4e52e0c313"
      },
      "execution_count": null,
      "outputs": [
        {
          "output_type": "execute_result",
          "data": {
            "text/plain": [
              "array([1, 0, 0, 0, 0, 0, 1, 0, 0, 0, 0, 1, 1, 0, 1, 1, 1, 1, 0, 0, 1, 0,\n",
              "       0, 1, 0, 0, 0, 1, 0, 0, 0])"
            ]
          },
          "metadata": {},
          "execution_count": 70
        }
      ]
    },
    {
      "cell_type": "code",
      "source": [
        "from sklearn.metrics import confusion_matrix,accuracy_score\n",
        "con=confusion_matrix(y_test,y_pred)\n",
        "score=accuracy_score(y_test,y_pred)\n",
        "con"
      ],
      "metadata": {
        "colab": {
          "base_uri": "https://localhost:8080/"
        },
        "id": "kbyNy9SPKV-o",
        "outputId": "08f1fa7a-82de-4897-96a0-e49b1f555ab1"
      },
      "execution_count": null,
      "outputs": [
        {
          "output_type": "execute_result",
          "data": {
            "text/plain": [
              "array([[12,  8],\n",
              "       [ 8,  3]])"
            ]
          },
          "metadata": {},
          "execution_count": 71
        }
      ]
    },
    {
      "cell_type": "code",
      "source": [
        "score"
      ],
      "metadata": {
        "colab": {
          "base_uri": "https://localhost:8080/"
        },
        "id": "Wa6ke233KaPI",
        "outputId": "3820d884-e7e3-446c-884a-2478f2301893"
      },
      "execution_count": null,
      "outputs": [
        {
          "output_type": "execute_result",
          "data": {
            "text/plain": [
              "0.4838709677419355"
            ]
          },
          "metadata": {},
          "execution_count": 72
        }
      ]
    },
    {
      "cell_type": "code",
      "source": [
        "path1='/content/drive/MyDrive/cat dog/Cat03.jpg'\n",
        "img=imread(path1)\n",
        "img=resize(img,(150,150,3)).flatten().reshape(1,-1)\n",
        "model.predict(img)"
      ],
      "metadata": {
        "colab": {
          "base_uri": "https://localhost:8080/"
        },
        "id": "Ng8T3pr0OJzA",
        "outputId": "7f2e37e9-47ca-4550-e3c1-2a368eaf15c1"
      },
      "execution_count": null,
      "outputs": [
        {
          "output_type": "execute_result",
          "data": {
            "text/plain": [
              "array([1])"
            ]
          },
          "metadata": {},
          "execution_count": 74
        }
      ]
    },
    {
      "cell_type": "code",
      "source": [
        "path2='/content/drive/MyDrive/cat dog/bernese-mountain-dog.jpg'\n",
        "img=imread(path1)\n",
        "img=resize(img,(150,150,3)).flatten().reshape(1,-1)\n",
        "model.predict(img)"
      ],
      "metadata": {
        "colab": {
          "base_uri": "https://localhost:8080/"
        },
        "id": "G7cFSsmhPurL",
        "outputId": "4be25f72-e174-46f6-accd-890fdf859142"
      },
      "execution_count": null,
      "outputs": [
        {
          "output_type": "execute_result",
          "data": {
            "text/plain": [
              "array([1])"
            ]
          },
          "metadata": {},
          "execution_count": 76
        }
      ]
    },
    {
      "cell_type": "code",
      "source": [
        "path3='/content/drive/MyDrive/cat dog/1655430860853.jpeg'\n",
        "img=imread(path1)\n",
        "img=resize(img,(150,150,3)).flatten().reshape(1,-1)\n",
        "model.predict(img)"
      ],
      "metadata": {
        "colab": {
          "base_uri": "https://localhost:8080/"
        },
        "id": "F4sk9cupP4ha",
        "outputId": "5f7e8f1a-2b5d-4b0d-9d95-922de6e5c293"
      },
      "execution_count": null,
      "outputs": [
        {
          "output_type": "execute_result",
          "data": {
            "text/plain": [
              "array([1])"
            ]
          },
          "metadata": {},
          "execution_count": 78
        }
      ]
    },
    {
      "cell_type": "code",
      "source": [
        "path4='/content/drive/MyDrive/cat dog/images.jpg'\n",
        "img=imread(path1)\n",
        "img=resize(img,(150,150,3)).flatten().reshape(1,-1)\n",
        "model.predict(img)"
      ],
      "metadata": {
        "colab": {
          "base_uri": "https://localhost:8080/"
        },
        "id": "4m-5Y1nEQD4i",
        "outputId": "c20c870e-b82a-4f5a-b1d2-2cd51474d4db"
      },
      "execution_count": null,
      "outputs": [
        {
          "output_type": "execute_result",
          "data": {
            "text/plain": [
              "array([1])"
            ]
          },
          "metadata": {},
          "execution_count": 79
        }
      ]
    },
    {
      "cell_type": "code",
      "source": [
        "path5='/content/drive/MyDrive/cat dog/kitten.jpg'\n",
        "img=imread(path1)\n",
        "img=resize(img,(150,150,3)).flatten().reshape(1,-1)\n",
        "model.predict(img)"
      ],
      "metadata": {
        "colab": {
          "base_uri": "https://localhost:8080/"
        },
        "id": "4oDfj2HdQpeR",
        "outputId": "9a886013-2272-475d-e9cc-adaeee9b3db7"
      },
      "execution_count": null,
      "outputs": [
        {
          "output_type": "execute_result",
          "data": {
            "text/plain": [
              "array([1])"
            ]
          },
          "metadata": {},
          "execution_count": 80
        }
      ]
    },
    {
      "cell_type": "code",
      "source": [
        "path6='/content/drive/MyDrive/cat dog/images (1).jpg'\n",
        "img=imread(path1)\n",
        "img=resize(img,(150,150,3)).flatten().reshape(1,-1)\n",
        "model.predict(img)"
      ],
      "metadata": {
        "colab": {
          "base_uri": "https://localhost:8080/"
        },
        "id": "rAl3hMbkRHoQ",
        "outputId": "96c72ee4-a47e-4cf7-b495-96f480a20d62"
      },
      "execution_count": null,
      "outputs": [
        {
          "output_type": "execute_result",
          "data": {
            "text/plain": [
              "array([1])"
            ]
          },
          "metadata": {},
          "execution_count": 81
        }
      ]
    }
  ]
}